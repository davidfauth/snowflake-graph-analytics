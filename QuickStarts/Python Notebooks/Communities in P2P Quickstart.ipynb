{
 "metadata": {
  "kernelspec": {
   "display_name": "Streamlit Notebook",
   "name": "streamlit"
  },
  "lastEditStatus": {
   "notebookId": "q5awip5uajqyvr3w2anc",
   "authorId": "2101879379811",
   "authorName": "SKHERDE",
   "authorEmail": "sakshi.kherde@neo4j.com",
   "sessionId": "825f2b5d-1c4e-402e-94dc-0f6edfbfde45",
   "lastEditTime": 1747084181197
  }
 },
 "nbformat_minor": 5,
 "nbformat": 4,
 "cells": [
  {
   "cell_type": "markdown",
   "id": "3775908f-ca36-4846-8f38-5adca39217f2",
   "metadata": {
    "name": "Overview",
    "collapsed": false
   },
   "source": "## Overview\n\n### What is Neo4j Graph Analytics for Snowflake? \n\nNeo4j helps organizations find hidden relationships and patterns across billions of data connections deeply, easily, and quickly. **Neo4j Graph Analytics for Snowflake** brings to the power of graph directly to Snowflake, allowing users to run 65+ ready-to-use algorithms on their data, all without leaving Snowflake! \n\n### Discovering Communities in P2P Fraud\nP2P Fraud Losses are Skyrocketing. 8% of banking customers reported being victims of P2P Scams in the past year, and the average loss to these scams was $176.\n\nFinding different communities within P2P transactions is the first step towards identifying and ultimately ending P2P fraud. \n\n### Prerequisites\n- The Native App Neo4j Graph Analytics for Snowflake\n  \n### What You Will Need\n- Active Snowflake account with appropriate access to databases and schemas.\n- Neo4j Graph Analytics application installed from the Snowflake marketplace. Access the marketplace via the menu bar on the left hand side of your screen, as seen below:\n\n### What You Will Learn\n- How to prepare and project your data for graph analytics\n- How to use community detection to identify fraud\n- How to read and write directly from and to your snowflake tables\n\n### What You Will Build\n- A method to identify communities that are at high risk of fraud in P2P networks\n"
  },
  {
   "cell_type": "markdown",
   "id": "8d50cbf4-0c8d-4950-86cb-114990437ac9",
   "metadata": {
    "name": "Step1",
    "collapsed": false
   },
   "source": "## Step 1: Loading the Data\nLet's name our database `P2P_DEMO`. Using the CSVs found [here](https://drive.google.com/drive/u/1/folders/1BnAnRSEfuwDvc4eQH8IRvy3tUkwOeaNf), We are going to add two new tables:\n\n- One called `P2P_TRANSACTIONS` based on the p2p_transactions.csv\n- One called `P2P_USERS based` on p2p_users.csv\n\nFollow the steps found [here](https://docs.snowflake.com/en/user-guide/data-load-web-ui) to load in your data.\nAbout the dataset: "
  },
  {
   "cell_type": "markdown",
   "id": "c695373e-ac74-4b62-a1f1-08206cbd5c81",
   "metadata": {
    "name": "Step2",
    "collapsed": false
   },
   "source": "## Step 2: Setting Up\nBefore we run our algorithms, we need to set the proper permissions. But before we get started granting different roles, we need to ensure that you are using `accountadmin` to grant and create roles. Lets do that now:"
  },
  {
   "cell_type": "code",
   "id": "96c76177-7e01-484a-9292-f3fc3f0e5a9d",
   "metadata": {
    "language": "sql",
    "name": "roles",
    "collapsed": false,
    "codeCollapsed": false
   },
   "outputs": [],
   "source": "-- you must be accountadmin to create role and grant permissions\nuse role accountadmin;",
   "execution_count": null
  },
  {
   "cell_type": "markdown",
   "id": "f9e24c11-30cc-46b1-bf78-a48638c45dbd",
   "metadata": {
    "name": "step2",
    "collapsed": false
   },
   "source": "Next let's set up the necessary roles, permissions, and resource access to enable Graph Analytics to operate on data within the `p2p_demo.public` schema. It creates a consumer role (`gds_role`) for users and administrators, grants the Graph Analytics application access to read from and write to tables and views, and ensures that future tables are accessible. \n\nIt also provides the application with access to the required compute pool and warehouse resources needed to run graph algorithms at scale."
  },
  {
   "cell_type": "code",
   "id": "88f80353-e278-4fca-bb75-af3e76a2ab43",
   "metadata": {
    "language": "sql",
    "name": "dbaccess"
   },
   "outputs": [],
   "source": "USE SCHEMA P2P_DEMO.PUBLIC;\n\n-- Create a consumer role for users and admins of the GDS application\nCREATE ROLE IF NOT EXISTS gds_user_role;\nCREATE ROLE IF NOT EXISTS gds_admin_role;\nGRANT APPLICATION ROLE neo4j_graph_analytics.app_user TO ROLE gds_user_role;\nGRANT APPLICATION ROLE neo4j_graph_analytics.app_admin TO ROLE gds_admin_role;\n\nCREATE DATABASE ROLE IF NOT EXISTS gds_db_role;\nGRANT DATABASE ROLE gds_db_role TO ROLE gds_user_role;\nGRANT DATABASE ROLE gds_db_role TO APPLICATION neo4j_graph_analytics;\n\n-- Grant access to consumer data\nGRANT USAGE ON DATABASE P2P_DEMO TO ROLE gds_user_role;\nGRANT USAGE ON SCHEMA P2P_DEMO.PUBLIC TO ROLE gds_user_role;\n\n-- Required to read tabular data into a graph\nGRANT SELECT ON ALL TABLES IN DATABASE P2P_DEMO TO DATABASE ROLE gds_db_role;\n\n-- Ensure the consumer role has access to created tables/views\nGRANT ALL PRIVILEGES ON FUTURE TABLES IN SCHEMA P2P_DEMO.PUBLIC TO DATABASE ROLE gds_db_role;\nGRANT ALL PRIVILEGES ON ALL TABLES IN SCHEMA P2P_DEMO.PUBLIC TO DATABASE ROLE gds_db_role;\nGRANT CREATE TABLE ON SCHEMA P2P_DEMO.PUBLIC TO DATABASE ROLE gds_db_role;\nGRANT CREATE VIEW ON SCHEMA P2P_DEMO.PUBLIC TO DATABASE ROLE gds_db_role;\nGRANT ALL PRIVILEGES ON FUTURE VIEWS IN SCHEMA P2P_DEMO.PUBLIC TO DATABASE ROLE gds_db_role;\nGRANT ALL PRIVILEGES ON ALL VIEWS IN SCHEMA P2P_DEMO.PUBLIC TO DATABASE ROLE gds_db_role;\n\n-- Compute and warehouse access\nGRANT USAGE ON WAREHOUSE GDSONSNOWFLAKE TO APPLICATION neo4j_graph_analytics;\n",
   "execution_count": null
  },
  {
   "cell_type": "markdown",
   "id": "03c14551-d259-4ffb-b450-70afb03adf5b",
   "metadata": {
    "name": "switchrole",
    "collapsed": false
   },
   "source": "Now we will switch to the role we just created:"
  },
  {
   "cell_type": "code",
   "id": "28f79f6a-c1fd-49ee-ad93-0387d656aaa8",
   "metadata": {
    "language": "sql",
    "name": "gdsrole"
   },
   "outputs": [],
   "source": "use role gds_role;",
   "execution_count": null
  },
  {
   "cell_type": "markdown",
   "id": "5e8792ef-23a5-4ce7-91e6-23a978e8fc22",
   "metadata": {
    "name": "Step3",
    "collapsed": false
   },
   "source": "## Step 3 : Cleaning Our Data\n\nWe need our data to be in a particular format in order to work with Graph Analytics. In general it should be like so:\n\n**For the table representing nodes:**\n\nThe first column should be called `nodeId`, which represents the ids for the each node in our graph\n\n**For the table representing relationships:**\n\nWe need to have columns called `sourceNodeId` and `targetNodeId`. These will tell Graph Analytics the direction of the transaction, which in this case means:\n- Who sent the money (sourceNodeId) and\n- Who received it (targetNodeId)\n- We also include a total_amount column that acts as the weights in the relationship\n\nWe are going to use aggregated transactions for our relationships. Let's create that table now:"
  },
  {
   "cell_type": "code",
   "id": "0ad57a92-6dd5-4937-85fd-ba05726ebf05",
   "metadata": {
    "language": "sql",
    "name": "nodesrelationships"
   },
   "outputs": [],
   "source": "CREATE OR REPLACE TABLE p2p_demo.public.P2P_AGG_TRANSACTIONS (\n\tSOURCENODEID NUMBER(38,0),\n\tTARGETNODEID NUMBER(38,0),\n\tTOTAL_AMOUNT FLOAT\n) AS\nSELECT sourceNodeId, targetNodeId, SUM(transaction_amount) AS total_amount\nFROM p2p_demo.public.P2P_TRANSACTIONS\nGROUP BY sourceNodeId, targetNodeId;\nSELECT * FROM p2p_demo.public.P2P_AGG_TRANSACTIONS;",
   "execution_count": null
  },
  {
   "cell_type": "markdown",
   "id": "1f827afb-69a8-43f7-bedb-6060d652a91f",
   "metadata": {
    "name": "views",
    "collapsed": false
   },
   "source": "We are also going to create a view that just has the unique `nodeId`s from the `p2p_demo` table and use that as the nodes when we project the graph in the next step:"
  },
  {
   "cell_type": "code",
   "id": "8f95fd57-d1c9-420d-bd14-84b5540081ea",
   "metadata": {
    "language": "sql",
    "name": "p2pusers"
   },
   "outputs": [],
   "source": "CREATE OR REPLACE VIEW p2p_users_vw (nodeId) AS\n    SELECT DISTINCT p2p_demo.public.p2p_users.NODEID as nodeid\n    FROM p2p_users;",
   "execution_count": null
  },
  {
   "cell_type": "markdown",
   "id": "fad00924-4eab-499f-ad66-2ca0fe80284b",
   "metadata": {
    "name": "step4",
    "collapsed": false
   },
   "source": "## Step 4: Running your Algorithms\nNow we are finally at the step where we create a projection, run our algorithms, and write back to snowflake. We will run louvain to determine communities within our data. Louvain identifies communities by grouping together nodes that have more connections to each other than to nodes outside the group.\n\nYou can find more information about writing this function in our [documentation](https://neo4j.com/docs/snowflake-graph-analytics/preview/installation/).\n\nYou can use this code block as an outline of what you need to fill in:\n\n```\nCALL Neo4j_GDS_app.graph.louvain('COMPUTE_POOL', {\n    'project': {\n        'nodeTables': ['EXAMPLE_DB.DATA_SCHEMA.NODES'],\n        'relationshipTables': {\n            'EXAMPLE_DB.DATA_SCHEMA.RELATIONSHIPS': {\n                'sourceTable': 'EXAMPLE_DB.DATA_SCHEMA.NODES',\n                'targetTable': 'EXAMPLE_DB.DATA_SCHEMA.NODES',\n                'orientation': 'NATURAL'\n            }\n        }\n    },\n    'compute': { 'consecutiveIds': true },\n    'write': [{\n        'nodeLabel': 'NODES',\n        'outputTable': 'EXAMPLE_DB.DATA_SCHEMA.NODES_COMPONENTS'\n    }]\n});\n```\n\nBut broadly, you will need a few things:\n| Name                                      | Description                                                 | Our Value                                      |\n|-------------------------------------------|-------------------------------------------------------------|------------------------------------------------|\n| `EXAMPLE_DB.DATA_SCHEMA.NODES`           | A table for nodes                             | `p2p_demo.public.p2p_users_vw`                 |\n| `EXAMPLE_DB.DATA_SCHEMA.RELATIONSHIPS`   | A table for relationships                   | `p2p_demo.public.P2P_AGG_TRANSACTIONS`         |\n| `COMPUTE_POOL`                            | The size of the compute pool you would like to use| `CPU_X64_XS`                              |\n| `EXAMPLE_DB.DATA_SCHEMA.NODES_COMPONENTS`| A table to output results                    | `p2p_demo.public.p2p_users_vw_lou`             |\n| `NODES`                                   | A node label for our nodes                   | `p2p_users_vw`                                 |"
  },
  {
   "cell_type": "markdown",
   "id": "9c8a16f1-0b1c-41a6-b608-d06743336edc",
   "metadata": {
    "name": "grantpermissions",
    "collapsed": false
   },
   "source": "First ensure that Graph Analytics has permission to each table that we are using."
  },
  {
   "cell_type": "code",
   "id": "159de3ba-d3e3-475e-8b96-003488229d32",
   "metadata": {
    "language": "sql",
    "name": "grants"
   },
   "outputs": [],
   "source": "GRANT SELECT ON TABLE P2P_DEMO.PUBLIC.p2p_users_vw TO APPLICATION neo4j_graph_analytics;\nGRANT SELECT ON TABLE P2P_DEMO.PUBLIC.P2P_AGG_TRANSACTIONS TO APPLICATION neo4j_graph_analytics;\nGRANT SELECT ON TABLE P2P_DEMO.PUBLIC.p2p_users_vw_lou TO APPLICATION neo4j_graph_analytics;",
   "execution_count": null
  },
  {
   "cell_type": "code",
   "id": "b1e2bffd-92d8-4da2-ae69-196db6e7972c",
   "metadata": {
    "language": "sql",
    "name": "graphprojection"
   },
   "outputs": [],
   "source": "CALL neo4j_graph_analytics.graph.louvain('CPU_X64_XS', {\n    'project': {\n        'nodeTables': ['p2p_demo.public.p2p_users_vw'],\n        'relationshipTables': {\n            'p2p_demo.public.P2P_AGG_TRANSACTIONS': {\n                'sourceTable': 'p2p_demo.public.p2p_users_vw',\n                'targetTable': 'p2p_demo.public.p2p_users_vw',\n                'orientation': 'NATURAL'\n            }\n        }\n    },\n    'compute': { 'consecutiveIds': true, 'relationshipWeightProperty':'TOTAL_AMOUNT'},\n    'write': [{\n        'nodeLabel': 'p2p_users_vw',\n        'outputTable': 'p2p_demo.public.p2p_users_vw_lou'\n    }]\n});",
   "execution_count": null
  },
  {
   "cell_type": "markdown",
   "id": "876a2538-1ff2-4564-a9a8-883d807507bd",
   "metadata": {
    "name": "communityID",
    "collapsed": false
   },
   "source": "Our resulting table assigns a community id to each node based on their connections to other nodes in the graph."
  },
  {
   "cell_type": "code",
   "id": "6ce6fd2a-be16-4652-baf5-9859a7e4d683",
   "metadata": {
    "language": "sql",
    "name": "communities"
   },
   "outputs": [],
   "source": "select community,   COUNT(*) AS community_size, \nfrom p2p_demo.public.p2p_users_vw_lou\ngroup by community\norder by community_size desc;",
   "execution_count": null
  },
  {
   "cell_type": "markdown",
   "id": "c02fd84f-1da8-4271-ad5f-8d725856633e",
   "metadata": {
    "name": "fraudtransferflag",
    "collapsed": false
   },
   "source": "We can then use then add in the `fraud_transfer_flag` (which was provided by the vendor) to our communities to see if users in that community are at greater risk for fraud:"
  },
  {
   "cell_type": "code",
   "id": "e17dacdc-2bbf-439e-a4c2-18dfc660c765",
   "metadata": {
    "language": "sql",
    "name": "fraudflag"
   },
   "outputs": [],
   "source": "SELECT\n  l.community,\n  COUNT(*) AS community_size,\n  SUM(n.fraud_transfer_flag) AS fraud_count\nFROM\n  p2p_users_vw_lou l\nJOIN\n  p2p_users n\nON\n  l.nodeId = n.nodeId\nGROUP BY\n  l.community\nORDER BY\n  community_size DESC, fraud_count DESC;",
   "execution_count": null
  }
 ]
}