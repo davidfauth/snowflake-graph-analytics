{
 "metadata": {
  "kernelspec": {
   "display_name": "Streamlit Notebook",
   "name": "streamlit"
  },
  "lastEditStatus": {
   "notebookId": "kkstpdq3y5qwsqyob5tc",
   "authorId": "8305788275502",
   "authorName": "DFAUTH",
   "authorEmail": "david.fauth@neo4j.com",
   "sessionId": "12ab4932-b5a3-496a-8f78-ee97e326ebe3",
   "lastEditTime": 1746097382222
  }
 },
 "nbformat_minor": 5,
 "nbformat": 4,
 "cells": [
  {
   "cell_type": "markdown",
   "id": "39835177-2c76-45c9-9d78-ade7c7efc0cb",
   "metadata": {
    "name": "cell26",
    "collapsed": false
   },
   "source": "Author: Dave Fauth\n\nLast Updated: 1 May 2025\n\nNeo4j Graph Analytics for Snowflake Version: 0.3.11"
  },
  {
   "cell_type": "markdown",
   "id": "60afe040-12dc-4554-a747-e1ba04a7e13f",
   "metadata": {
    "name": "cell25",
    "collapsed": false
   },
   "source": "The Weakly Connected Components (WCC) algorithm finds sets of connected nodes in directed and undirected graphs. Two nodes are connected, if there exists a path between them. The set of all nodes that are connected with each other form a component.\n\nThis example uses data that was sourced from `Relationship 360 - People Business Intelligence Sample (Massachusetts)`. This data set is a free dataset that is available in the Snowflake Marketplace."
  },
  {
   "cell_type": "markdown",
   "id": "6512b713-22e3-4610-9731-a27f89b288f3",
   "metadata": {
    "name": "cell1",
    "collapsed": false
   },
   "source": "## Setting Up\nBefore we run our algorithms, we need to set the proper permissions. But before we get started granting different roles, we need to ensure that you are using `accountadmin` to grant and create roles. Lets do that now:"
  },
  {
   "cell_type": "code",
   "id": "62bfdef9-fe14-4f0e-9ebc-89b8a4db7e96",
   "metadata": {
    "language": "sql",
    "name": "cell2"
   },
   "outputs": [],
   "source": "-- you must be accountadmin to create role and grant permissions\nUSE ROLE accountadmin;",
   "execution_count": null
  },
  {
   "cell_type": "code",
   "id": "3a0f7ed0-e748-490c-847a-14d1623db086",
   "metadata": {
    "language": "sql",
    "name": "cell3"
   },
   "outputs": [],
   "source": "-- Create a database which we will use to prepare data for GDS.\nCREATE DATABASE IF NOT EXISTS WCC_EXAMPLE;\nCREATE SCHEMA IF NOT EXISTS WCC_EXAMPLE.PUBLIC;\nUSE SCHEMA WCC_EXAMPLE.PUBLIC;",
   "execution_count": null
  },
  {
   "cell_type": "code",
   "id": "f13919f9-448a-4814-a035-55eaf194dc1a",
   "metadata": {
    "language": "sql",
    "name": "cell4"
   },
   "outputs": [],
   "source": "CREATE TABLE WCC_EXAMPLE.PUBLIC.PERSON as \nselect * from relationship_360__people_business_intelligence_sample_massachusetts.sample_datafeed_mass.person",
   "execution_count": null
  },
  {
   "cell_type": "code",
   "id": "e68eb7ce-e207-4972-9498-760aaa199426",
   "metadata": {
    "language": "sql",
    "name": "cell5"
   },
   "outputs": [],
   "source": "CREATE TABLE WCC_EXAMPLE.PUBLIC.ORGANIZATION as \nselect * from relationship_360__people_business_intelligence_sample_massachusetts.sample_datafeed_mass.organization",
   "execution_count": null
  },
  {
   "cell_type": "code",
   "id": "0a34ac11-35a9-42f6-ad7a-ad4830aa7eda",
   "metadata": {
    "language": "sql",
    "name": "cell6"
   },
   "outputs": [],
   "source": "CREATE TABLE WCC_EXAMPLE.PUBLIC.POSITION as \nselect * from relationship_360__people_business_intelligence_sample_massachusetts.sample_datafeed_mass.position",
   "execution_count": null
  },
  {
   "cell_type": "code",
   "id": "c679e5bb-bcaf-43f5-912d-e924357a8d6a",
   "metadata": {
    "language": "sql",
    "name": "cell7"
   },
   "outputs": [],
   "source": "CREATE TABLE WCC_EXAMPLE.PUBLIC.BIO as \nselect * from relationship_360__people_business_intelligence_sample_massachusetts.sample_datafeed_mass.bio",
   "execution_count": null
  },
  {
   "cell_type": "code",
   "id": "96c86743-36cb-4903-ae30-f2d127544d0c",
   "metadata": {
    "language": "sql",
    "name": "cell13"
   },
   "outputs": [],
   "source": "CREATE TABLE WCC_EXAMPLE.PUBLIC.COMMITTEE as \nselect * from relationship_360__people_business_intelligence_sample_massachusetts.sample_datafeed_mass.committee",
   "execution_count": null
  },
  {
   "cell_type": "code",
   "id": "d3e0cccd-f7be-4bba-bf1b-0c04fa9ee209",
   "metadata": {
    "language": "sql",
    "name": "cell10"
   },
   "outputs": [],
   "source": "-- We do the same for the persons by projecting the `PERSON_ID` to 'nodeId'.\n-- Since order is a reserved word in SQL, we utilize a quoted identifier.\nCREATE OR REPLACE VIEW WCC_EXAMPLE.PUBLIC.PERSON_VW (nodeId) AS\nSELECT p.PERSON_ID AS nodeId FROM WCC_EXAMPLE.PUBLIC.PERSON p;",
   "execution_count": null
  },
  {
   "cell_type": "code",
   "id": "49fc0bd0-f334-4311-8273-162158a8d6af",
   "metadata": {
    "language": "sql",
    "name": "cell11"
   },
   "outputs": [],
   "source": "-- We do the same for the persons by projecting the `PERSON_ID` to 'nodeId'.\n-- Since order is a reserved word in SQL, we utilize a quoted identifier.\nCREATE OR REPLACE VIEW WCC_EXAMPLE.PUBLIC.ORGANIZATION_VW (nodeId) AS\nSELECT o.organization_id AS nodeId FROM WCC_EXAMPLE.PUBLIC.ORGANIZATION o;",
   "execution_count": null
  },
  {
   "cell_type": "code",
   "id": "00888100-9e03-4d81-83e2-619816974f01",
   "metadata": {
    "language": "sql",
    "name": "cell12"
   },
   "outputs": [],
   "source": "CREATE OR REPLACE VIEW WCC_EXAMPLE.PUBLIC.LOCATION_VW(CITY, STATE, POSTAL_CODE) \nAS \nSELECT DISTINCT o.CITY, o.STATE, o.POSTAL_CODE\nFROM WCC_EXAMPLE.PUBLIC.ORGANIZATION o;",
   "execution_count": null
  },
  {
   "cell_type": "code",
   "id": "5ef22e28-aa0d-4eea-ab1c-f7021b2583cc",
   "metadata": {
    "language": "sql",
    "name": "cell19"
   },
   "outputs": [],
   "source": "CREATE OR REPLACE VIEW WCC_EXAMPLE.PUBLIC.LOCATIONS_VW(nodeID, CITY, STATE, POSTAL_CODE) \nAS \nSELECT UUID_STRING(),  o.CITY, o.STATE, o.POSTAL_CODE\nFROM WCC_EXAMPLE.PUBLIC.LOCATION_VW o;",
   "execution_count": null
  },
  {
   "cell_type": "code",
   "id": "7fbe4018-954e-4a0a-954e-c5e778d0f51d",
   "metadata": {
    "language": "sql",
    "name": "cell20"
   },
   "outputs": [],
   "source": "SELECT * FROM WCC_EXAMPLE.PUBLIC.LOCATIONS_VW LIMIT 10;",
   "execution_count": null
  },
  {
   "cell_type": "code",
   "id": "368a220c-738c-45a1-894a-29e9e73c042b",
   "metadata": {
    "language": "sql",
    "name": "cell23"
   },
   "outputs": [],
   "source": "CREATE OR REPLACE VIEW WCC_EXAMPLE.PUBLIC.LOCATION_NODES_VW(nodeID) \nAS \nSELECT o.NODEID\nFROM WCC_EXAMPLE.PUBLIC.LOCATIONS_VW o;",
   "execution_count": null
  },
  {
   "cell_type": "code",
   "id": "84519c83-0e7c-42b6-8132-5b0377c3ba90",
   "metadata": {
    "language": "sql",
    "name": "cell21"
   },
   "outputs": [],
   "source": "CREATE OR REPLACE VIEW WCC_EXAMPLE.PUBLIC.LOCATION_ORGANIZATION_VW(sourceNodeId, targetNodeId) \nAS\nSELECT l.nodeID, o.ORGANIZATION_ID\nFROM  WCC_EXAMPLE.PUBLIC.LOCATIONS_VW l\nINNER JOIN WCC_EXAMPLE.PUBLIC.ORGANIZATION o\non l.CITY = O.CITY\nand l.STATE = o.STATE\nand l.POSTAL_CODE = o.POSTAL_CODE",
   "execution_count": null
  },
  {
   "cell_type": "code",
   "id": "077214dd-b88f-4086-a45b-8acdb4d5d47b",
   "metadata": {
    "language": "sql",
    "name": "cell22"
   },
   "outputs": [],
   "source": "SELECT * FROM WCC_EXAMPLE.PUBLIC.LOCATION_ORGANIZATION_VW LIMIT 10;",
   "execution_count": null
  },
  {
   "cell_type": "code",
   "id": "ca72ecbd-62f4-4c95-a709-5e18744f79f1",
   "metadata": {
    "language": "sql",
    "name": "cell18",
    "codeCollapsed": false
   },
   "outputs": [],
   "source": "CREATE OR REPLACE VIEW WCC_EXAMPLE.PUBLIC.COMMITTEE_VW(sourceNodeId, targetNodeId) \nAS \nSELECT c.person_id AS sourceNodeId, c.organization_id AS targetNodeId \nFROM WCC_EXAMPLE.PUBLIC.COMMITTEE c;",
   "execution_count": null
  },
  {
   "cell_type": "markdown",
   "id": "fd3d2619-f6f2-4f8d-9213-f6f1827d7a36",
   "metadata": {
    "name": "cell8",
    "collapsed": false
   },
   "source": "Next let's set up the necessary roles, permissions, and resource access to enable Graph Analytics to operate on data within the neo4j_imdb.public schema. It creates a consumer role (gds_role) for users and administrators, grants the GDS application access to read from and write to tables and views, and ensures that future tables are accessible.\n\nIt also provides the application with access to the required compute pool and warehouse resources needed to run graph algorithms at scale."
  },
  {
   "cell_type": "code",
   "id": "d168b129-698d-4be3-b034-ecc606691acc",
   "metadata": {
    "language": "sql",
    "name": "cell9"
   },
   "outputs": [],
   "source": "USE SCHEMA WCC_EXAMPLE.PUBLIC;\n\n-- Create a consumer role for users and admins of the GDS application\nCREATE ROLE IF NOT EXISTS gds_role;\nGRANT APPLICATION ROLE se_snow_neo4j_graph_analytics.app_user TO ROLE gds_role;\nGRANT APPLICATION ROLE se_snow_neo4j_graph_analytics.app_admin TO ROLE gds_role;\n\n-- Grant access to consumer data\nGRANT USAGE ON DATABASE WCC_EXAMPLE TO APPLICATION se_snow_neo4j_graph_analytics;\nGRANT USAGE ON SCHEMA WCC_EXAMPLE.PUBLIC TO APPLICATION se_snow_neo4j_graph_analytics;\n\n-- Required to read tabular data into a graph\nGRANT SELECT ON ALL TABLES IN SCHEMA WCC_EXAMPLE.PUBLIC TO APPLICATION se_snow_neo4j_graph_analytics;\n\n-- Required to write computation results into a table/view\nGRANT CREATE TABLE ON SCHEMA WCC_EXAMPLE.PUBLIC TO APPLICATION se_snow_neo4j_graph_analytics;\nGRANT CREATE VIEW ON SCHEMA WCC_EXAMPLE.PUBLIC TO APPLICATION se_snow_neo4j_graph_analytics;\n\n-- Ensure the consumer role has access to created tables/views\nGRANT ALL PRIVILEGES ON FUTURE TABLES IN SCHEMA WCC_EXAMPLE.PUBLIC TO ROLE gds_role;\nGRANT ALL PRIVILEGES ON ALL TABLES IN SCHEMA WCC_EXAMPLE.PUBLIC TO ROLE gds_role;\nGRANT CREATE TABLE ON SCHEMA WCC_EXAMPLE.PUBLIC TO ROLE gds_role;\nGRANT CREATE VIEW ON SCHEMA WCC_EXAMPLE.PUBLIC TO ROLE gds_role;\n\n-- Compute and warehouse access\nGRANT USAGE ON WAREHOUSE GDSONSNOWFLAKE TO APPLICATION se_snow_neo4j_graph_analytics;\n\nGRANT SELECT ON VIEW WCC_EXAMPLE.PUBLIC.PERSON_VW TO APPLICATION se_snow_neo4j_graph_analytics;\nGRANT SELECT ON VIEW WCC_EXAMPLE.PUBLIC.ORGANIZATION_VW TO APPLICATION se_snow_neo4j_graph_analytics;\nGRANT SELECT ON VIEW WCC_EXAMPLE.PUBLIC.COMMITTEE_VW TO APPLICATION se_snow_neo4j_graph_analytics;\nGRANT SELECT ON VIEW WCC_EXAMPLE.PUBLIC.LOCATION_ORGANIZATION_VW TO APPLICATION se_snow_neo4j_graph_analytics;\nGRANT SELECT ON VIEW WCC_EXAMPLE.PUBLIC.LOCATION_NODES_VW TO APPLICATION se_snow_neo4j_graph_analytics;\nGRANT SELECT ON VIEW WCC_EXAMPLE.PUBLIC.LOCATION_VW TO APPLICATION se_snow_neo4j_graph_analytics;\n",
   "execution_count": null
  },
  {
   "cell_type": "code",
   "id": "67a70ec5-ad65-4eb0-95c8-e074fcc577db",
   "metadata": {
    "language": "sql",
    "name": "cell14"
   },
   "outputs": [],
   "source": "USE ROLE gds_role;",
   "execution_count": null
  },
  {
   "cell_type": "code",
   "id": "c81cf277-1281-4610-a182-b0033b6db026",
   "metadata": {
    "language": "sql",
    "name": "cell15"
   },
   "outputs": [],
   "source": "CALL se_snow_neo4j_graph_analytics.graph.wcc('CPU_X64_L', {\n  'project': {\n    'defaultTablePrefix': 'WCC_EXAMPLE.PUBLIC',\n    'nodeTables': ['PERSON_VW','ORGANIZATION_VW','LOCATION_NODES_VW'], \n    'relationshipTables': {\n      'COMMITTEE_VW': {\n        'sourceTable': 'PERSON_VW',\n        'targetTable': 'ORGANIZATION_VW'\n      },\n        'LOCATION_ORGANIZATION_VW': {\n        'sourceTable': 'LOCATION_NODES_VW',\n        'targetTable': 'ORGANIZATION_VW'\n      }\n    }\n  },\n  'compute': {},\n  'write': [\n    {\n      'nodeLabel': 'PERSON_VW',\n      'outputTable': 'WCC_EXAMPLE.PUBLIC.USERS_COMPONENTS'\n    }\n  ]\n});",
   "execution_count": null
  },
  {
   "cell_type": "code",
   "id": "3742ada8-f1af-471c-b2b4-b7e4073519f4",
   "metadata": {
    "language": "sql",
    "name": "cell16"
   },
   "outputs": [],
   "source": "SELECT uc.COMPONENT, COUNT(uc.NODEID) as NumberOfPersons \nFROM WCC_EXAMPLE.PUBLIC.USERS_COMPONENTS uc\nGROUP BY UC.COMPONENT\nORDER BY NUMBEROFPERSONS DESC;",
   "execution_count": null
  },
  {
   "cell_type": "code",
   "id": "1085783a-8937-4c89-83f3-d82e79d4342a",
   "metadata": {
    "language": "sql",
    "name": "cell17",
    "codeCollapsed": false
   },
   "outputs": [],
   "source": "\n//SELECT COUNT(DISTINCT o.COMPONENT) FROM WCC_EXAMPLE.PUBLIC.USERS_COMPONENTS o;\nSELECT COUNT(*) FROM WCC_EXAMPLE.PUBLIC.USERS_COMPONENTS o;\nSELECT DISTINCT o.COMPONENT FROM WCC_EXAMPLE.PUBLIC.USERS_COMPONENTS o;",
   "execution_count": null
  },
  {
   "cell_type": "code",
   "id": "a239950f-4ecb-46cc-a226-2fd72fc0e86d",
   "metadata": {
    "language": "sql",
    "name": "cell24"
   },
   "outputs": [],
   "source": "",
   "execution_count": null
  }
 ]
}